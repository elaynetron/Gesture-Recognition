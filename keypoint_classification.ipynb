{
 "cells": [
  {
   "cell_type": "markdown",
   "metadata": {},
   "source": [
    "### Import Libraries"
   ]
  },
  {
   "cell_type": "code",
   "execution_count": 23,
   "metadata": {
    "id": "igMyGnjE9hEp"
   },
   "outputs": [],
   "source": [
    "import csv\n",
    "import numpy as np\n",
    "import tensorflow as tf\n",
    "from sklearn.model_selection import train_test_split\n",
    "\n",
    "import pandas as pd\n",
    "import seaborn as sns\n",
    "import matplotlib.pyplot as plt\n",
    "from sklearn.metrics import confusion_matrix, classification_report"
   ]
  },
  {
   "cell_type": "markdown",
   "metadata": {},
   "source": [
    "### Init"
   ]
  },
  {
   "cell_type": "code",
   "execution_count": null,
   "metadata": {
    "id": "9NvZP2Zn9hEy"
   },
   "outputs": [],
   "source": [
    "seed = 42, num_classes = 2\n",
    "\n",
    "keypoints = 'model/keypoint_classifier/keypoint.csv'\n",
    "model_path = 'model/keypoint_classifier/keypoint_classifier.hdf5'\n",
    "tflite_path = 'model/keypoint_classifier/keypoint_classifier.tflite'"
   ]
  },
  {
   "cell_type": "markdown",
   "metadata": {
    "id": "XjnL0uso9hEz"
   },
   "source": [
    "### Read & Split Data"
   ]
  },
  {
   "cell_type": "code",
   "execution_count": 26,
   "metadata": {
    "id": "QT5ZqtEz9hE0"
   },
   "outputs": [],
   "source": [
    "X_keypoints = np.loadtxt(keypoints, delimiter=',', dtype='float32', usecols=list(range(1, (21 * 2) + 1)))\n",
    "Y_keypoints = np.loadtxt(keypoints, delimiter=',', dtype='int32', usecols=(0))"
   ]
  },
  {
   "cell_type": "code",
   "execution_count": 28,
   "metadata": {
    "id": "xQU7JTZ_9hE0"
   },
   "outputs": [],
   "source": [
    "X_train, X_test, Y_train, Y_test = train_test_split(X_keypoints, Y_keypoints, train_size=0.7, random_state=seed)"
   ]
  },
  {
   "cell_type": "markdown",
   "metadata": {
    "id": "mxK_lETT9hE0"
   },
   "source": [
    "### Model"
   ]
  },
  {
   "cell_type": "code",
   "execution_count": 29,
   "metadata": {
    "id": "vHBmUf1t9hE1"
   },
   "outputs": [],
   "source": [
    "model = tf.keras.models.Sequential([\n",
    "    tf.keras.layers.Input((21*2,)),\n",
    "    tf.keras.layers.Dropout(0.2),\n",
    "    tf.keras.layers.Dense(20, activation='relu'),\n",
    "    tf.keras.layers.Dropout(0.4),\n",
    "    tf.keras.layers.Dense(10, activation='relu'),\n",
    "    tf.keras.layers.Dense(num_classes, activation='softmax')\n",
    "])"
   ]
  },
  {
   "cell_type": "code",
   "execution_count": 30,
   "metadata": {
    "colab": {
     "base_uri": "https://localhost:8080/"
    },
    "id": "ypqky9tc9hE1",
    "outputId": "5db082bb-30e3-4110-bf63-a1ee777ecd46"
   },
   "outputs": [
    {
     "name": "stdout",
     "output_type": "stream",
     "text": [
      "Model: \"sequential_2\"\n",
      "_________________________________________________________________\n",
      " Layer (type)                Output Shape              Param #   \n",
      "=================================================================\n",
      " dropout_4 (Dropout)         (None, 42)                0         \n",
      "                                                                 \n",
      " dense_6 (Dense)             (None, 20)                860       \n",
      "                                                                 \n",
      " dropout_5 (Dropout)         (None, 20)                0         \n",
      "                                                                 \n",
      " dense_7 (Dense)             (None, 10)                210       \n",
      "                                                                 \n",
      " dense_8 (Dense)             (None, 2)                 22        \n",
      "                                                                 \n",
      "=================================================================\n",
      "Total params: 1,092\n",
      "Trainable params: 1,092\n",
      "Non-trainable params: 0\n",
      "_________________________________________________________________\n"
     ]
    }
   ],
   "source": [
    "model.summary()"
   ]
  },
  {
   "cell_type": "code",
   "execution_count": 31,
   "metadata": {
    "id": "MbMjOflQ9hE1"
   },
   "outputs": [],
   "source": [
    "# Model checkpoint callback\n",
    "cp_callback = tf.keras.callbacks.ModelCheckpoint(model_path, verbose=1, save_weights_only=False)\n",
    "# Callback for early stopping\n",
    "es_callback = tf.keras.callbacks.EarlyStopping(patience=20, verbose=1)"
   ]
  },
  {
   "cell_type": "code",
   "execution_count": 32,
   "metadata": {
    "id": "c3Dac0M_9hE2"
   },
   "outputs": [],
   "source": [
    "model.compile(\n",
    "    optimizer='adam',\n",
    "    loss='sparse_categorical_crossentropy',\n",
    "    metrics=['accuracy']\n",
    ")"
   ]
  },
  {
   "cell_type": "code",
   "execution_count": 33,
   "metadata": {
    "colab": {
     "base_uri": "https://localhost:8080/"
    },
    "id": "WirBl-JE9hE3",
    "outputId": "71b30ca2-8294-4d9d-8aa2-800d90d399de",
    "scrolled": true
   },
   "outputs": [
    {
     "name": "stdout",
     "output_type": "stream",
     "text": [
      "Epoch 1/1000\n",
      " 1/18 [>.............................] - ETA: 8s - loss: 0.8349 - accuracy: 0.4688\n",
      "Epoch 1: saving model to model/keypoint_classifier\\keypoint_classifier.hdf5\n",
      "18/18 [==============================] - 1s 17ms/step - loss: 0.7353 - accuracy: 0.5141 - val_loss: 0.6745 - val_accuracy: 0.4263\n",
      "Epoch 2/1000\n",
      " 1/18 [>.............................] - ETA: 0s - loss: 0.6807 - accuracy: 0.5781\n",
      "Epoch 2: saving model to model/keypoint_classifier\\keypoint_classifier.hdf5\n",
      "18/18 [==============================] - 0s 5ms/step - loss: 0.6743 - accuracy: 0.5791 - val_loss: 0.5944 - val_accuracy: 0.8515\n",
      "Epoch 3/1000\n",
      " 1/18 [>.............................] - ETA: 0s - loss: 0.6578 - accuracy: 0.5781\n",
      "Epoch 3: saving model to model/keypoint_classifier\\keypoint_classifier.hdf5\n",
      "18/18 [==============================] - 0s 6ms/step - loss: 0.6175 - accuracy: 0.6614 - val_loss: 0.5288 - val_accuracy: 0.9671\n",
      "Epoch 4/1000\n",
      " 1/18 [>.............................] - ETA: 0s - loss: 0.6014 - accuracy: 0.6719\n",
      "Epoch 4: saving model to model/keypoint_classifier\\keypoint_classifier.hdf5\n",
      "18/18 [==============================] - 0s 5ms/step - loss: 0.5706 - accuracy: 0.7191 - val_loss: 0.4466 - val_accuracy: 0.9915\n",
      "Epoch 5/1000\n",
      " 1/18 [>.............................] - ETA: 0s - loss: 0.5421 - accuracy: 0.7812\n",
      "Epoch 5: saving model to model/keypoint_classifier\\keypoint_classifier.hdf5\n",
      "18/18 [==============================] - 0s 5ms/step - loss: 0.5286 - accuracy: 0.7623 - val_loss: 0.3672 - val_accuracy: 0.9926\n",
      "Epoch 6/1000\n",
      " 1/18 [>.............................] - ETA: 0s - loss: 0.4540 - accuracy: 0.8516\n",
      "Epoch 6: saving model to model/keypoint_classifier\\keypoint_classifier.hdf5\n",
      "18/18 [==============================] - 0s 4ms/step - loss: 0.4782 - accuracy: 0.7914 - val_loss: 0.2946 - val_accuracy: 0.9936\n",
      "Epoch 7/1000\n",
      " 1/18 [>.............................] - ETA: 0s - loss: 0.4366 - accuracy: 0.8125\n",
      "Epoch 7: saving model to model/keypoint_classifier\\keypoint_classifier.hdf5\n",
      "18/18 [==============================] - 0s 6ms/step - loss: 0.4263 - accuracy: 0.8191 - val_loss: 0.2318 - val_accuracy: 0.9958\n",
      "Epoch 8/1000\n",
      " 1/18 [>.............................] - ETA: 0s - loss: 0.3655 - accuracy: 0.8359\n",
      "Epoch 8: saving model to model/keypoint_classifier\\keypoint_classifier.hdf5\n",
      "18/18 [==============================] - 0s 5ms/step - loss: 0.3999 - accuracy: 0.8345 - val_loss: 0.1774 - val_accuracy: 0.9958\n",
      "Epoch 9/1000\n",
      " 1/18 [>.............................] - ETA: 0s - loss: 0.4223 - accuracy: 0.8359\n",
      "Epoch 9: saving model to model/keypoint_classifier\\keypoint_classifier.hdf5\n",
      "18/18 [==============================] - 0s 4ms/step - loss: 0.3861 - accuracy: 0.8277 - val_loss: 0.1435 - val_accuracy: 0.9989\n",
      "Epoch 10/1000\n",
      " 1/18 [>.............................] - ETA: 0s - loss: 0.4171 - accuracy: 0.8516\n",
      "Epoch 10: saving model to model/keypoint_classifier\\keypoint_classifier.hdf5\n",
      "18/18 [==============================] - 0s 5ms/step - loss: 0.3422 - accuracy: 0.8668 - val_loss: 0.1241 - val_accuracy: 1.0000\n",
      "Epoch 11/1000\n",
      " 1/18 [>.............................] - ETA: 0s - loss: 0.3107 - accuracy: 0.8984\n",
      "Epoch 11: saving model to model/keypoint_classifier\\keypoint_classifier.hdf5\n",
      "18/18 [==============================] - 0s 4ms/step - loss: 0.3207 - accuracy: 0.8727 - val_loss: 0.0964 - val_accuracy: 0.9989\n",
      "Epoch 12/1000\n",
      " 1/18 [>.............................] - ETA: 0s - loss: 0.3512 - accuracy: 0.8594\n",
      "Epoch 12: saving model to model/keypoint_classifier\\keypoint_classifier.hdf5\n",
      "18/18 [==============================] - 0s 5ms/step - loss: 0.3022 - accuracy: 0.8764 - val_loss: 0.0801 - val_accuracy: 1.0000\n",
      "Epoch 13/1000\n",
      " 1/18 [>.............................] - ETA: 0s - loss: 0.3212 - accuracy: 0.8672\n",
      "Epoch 13: saving model to model/keypoint_classifier\\keypoint_classifier.hdf5\n",
      "18/18 [==============================] - 0s 5ms/step - loss: 0.2804 - accuracy: 0.8914 - val_loss: 0.0662 - val_accuracy: 0.9989\n",
      "Epoch 14/1000\n",
      " 1/18 [>.............................] - ETA: 0s - loss: 0.2817 - accuracy: 0.8984\n",
      "Epoch 14: saving model to model/keypoint_classifier\\keypoint_classifier.hdf5\n",
      "18/18 [==============================] - 0s 4ms/step - loss: 0.2763 - accuracy: 0.8864 - val_loss: 0.0600 - val_accuracy: 0.9989\n",
      "Epoch 15/1000\n",
      " 1/18 [>.............................] - ETA: 0s - loss: 0.1930 - accuracy: 0.9531\n",
      "Epoch 15: saving model to model/keypoint_classifier\\keypoint_classifier.hdf5\n",
      "18/18 [==============================] - 0s 5ms/step - loss: 0.2656 - accuracy: 0.8991 - val_loss: 0.0509 - val_accuracy: 1.0000\n",
      "Epoch 16/1000\n",
      " 1/18 [>.............................] - ETA: 0s - loss: 0.2829 - accuracy: 0.8828\n",
      "Epoch 16: saving model to model/keypoint_classifier\\keypoint_classifier.hdf5\n",
      "18/18 [==============================] - 0s 6ms/step - loss: 0.2348 - accuracy: 0.9141 - val_loss: 0.0445 - val_accuracy: 1.0000\n",
      "Epoch 17/1000\n",
      " 1/18 [>.............................] - ETA: 0s - loss: 0.3034 - accuracy: 0.9062\n",
      "Epoch 17: saving model to model/keypoint_classifier\\keypoint_classifier.hdf5\n",
      "18/18 [==============================] - 0s 5ms/step - loss: 0.2446 - accuracy: 0.9045 - val_loss: 0.0402 - val_accuracy: 1.0000\n",
      "Epoch 18/1000\n",
      " 1/18 [>.............................] - ETA: 0s - loss: 0.2556 - accuracy: 0.9062\n",
      "Epoch 18: saving model to model/keypoint_classifier\\keypoint_classifier.hdf5\n",
      "18/18 [==============================] - 0s 4ms/step - loss: 0.2436 - accuracy: 0.9036 - val_loss: 0.0382 - val_accuracy: 1.0000\n",
      "Epoch 19/1000\n",
      " 1/18 [>.............................] - ETA: 0s - loss: 0.2499 - accuracy: 0.8672\n",
      "Epoch 19: saving model to model/keypoint_classifier\\keypoint_classifier.hdf5\n",
      "18/18 [==============================] - 0s 4ms/step - loss: 0.2402 - accuracy: 0.9036 - val_loss: 0.0427 - val_accuracy: 0.9989\n",
      "Epoch 20/1000\n",
      " 1/18 [>.............................] - ETA: 0s - loss: 0.2467 - accuracy: 0.9297\n",
      "Epoch 20: saving model to model/keypoint_classifier\\keypoint_classifier.hdf5\n",
      "18/18 [==============================] - 0s 5ms/step - loss: 0.2309 - accuracy: 0.9068 - val_loss: 0.0380 - val_accuracy: 1.0000\n",
      "Epoch 21/1000\n",
      " 1/18 [>.............................] - ETA: 0s - loss: 0.2064 - accuracy: 0.9219\n",
      "Epoch 21: saving model to model/keypoint_classifier\\keypoint_classifier.hdf5\n",
      "18/18 [==============================] - 0s 5ms/step - loss: 0.2085 - accuracy: 0.9182 - val_loss: 0.0329 - val_accuracy: 1.0000\n",
      "Epoch 22/1000\n",
      " 1/18 [>.............................] - ETA: 0s - loss: 0.1207 - accuracy: 0.9609\n",
      "Epoch 22: saving model to model/keypoint_classifier\\keypoint_classifier.hdf5\n",
      "18/18 [==============================] - 0s 4ms/step - loss: 0.2105 - accuracy: 0.9155 - val_loss: 0.0287 - val_accuracy: 1.0000\n",
      "Epoch 23/1000\n",
      " 1/18 [>.............................] - ETA: 0s - loss: 0.2606 - accuracy: 0.8984\n",
      "Epoch 23: saving model to model/keypoint_classifier\\keypoint_classifier.hdf5\n",
      "18/18 [==============================] - 0s 4ms/step - loss: 0.2079 - accuracy: 0.9200 - val_loss: 0.0267 - val_accuracy: 1.0000\n",
      "Epoch 24/1000\n",
      " 1/18 [>.............................] - ETA: 0s - loss: 0.2061 - accuracy: 0.9062\n",
      "Epoch 24: saving model to model/keypoint_classifier\\keypoint_classifier.hdf5\n",
      "18/18 [==============================] - 0s 4ms/step - loss: 0.2185 - accuracy: 0.9136 - val_loss: 0.0271 - val_accuracy: 1.0000\n",
      "Epoch 25/1000\n",
      " 1/18 [>.............................] - ETA: 0s - loss: 0.1947 - accuracy: 0.9141\n",
      "Epoch 25: saving model to model/keypoint_classifier\\keypoint_classifier.hdf5\n",
      "18/18 [==============================] - 0s 5ms/step - loss: 0.2018 - accuracy: 0.9259 - val_loss: 0.0259 - val_accuracy: 1.0000\n",
      "Epoch 26/1000\n",
      " 1/18 [>.............................] - ETA: 0s - loss: 0.2374 - accuracy: 0.8984\n",
      "Epoch 26: saving model to model/keypoint_classifier\\keypoint_classifier.hdf5\n",
      "18/18 [==============================] - 0s 4ms/step - loss: 0.2031 - accuracy: 0.9259 - val_loss: 0.0269 - val_accuracy: 1.0000\n",
      "Epoch 27/1000\n",
      " 1/18 [>.............................] - ETA: 0s - loss: 0.2640 - accuracy: 0.8906\n",
      "Epoch 27: saving model to model/keypoint_classifier\\keypoint_classifier.hdf5\n",
      "18/18 [==============================] - 0s 5ms/step - loss: 0.2069 - accuracy: 0.9195 - val_loss: 0.0272 - val_accuracy: 1.0000\n",
      "Epoch 28/1000\n",
      " 1/18 [>.............................] - ETA: 0s - loss: 0.2159 - accuracy: 0.9531\n",
      "Epoch 28: saving model to model/keypoint_classifier\\keypoint_classifier.hdf5\n",
      "18/18 [==============================] - 0s 5ms/step - loss: 0.2128 - accuracy: 0.9182 - val_loss: 0.0269 - val_accuracy: 1.0000\n",
      "Epoch 29/1000\n",
      " 1/18 [>.............................] - ETA: 0s - loss: 0.1493 - accuracy: 0.9297\n",
      "Epoch 29: saving model to model/keypoint_classifier\\keypoint_classifier.hdf5\n",
      "18/18 [==============================] - 0s 5ms/step - loss: 0.1679 - accuracy: 0.9400 - val_loss: 0.0230 - val_accuracy: 1.0000\n",
      "Epoch 30/1000\n",
      " 1/18 [>.............................] - ETA: 0s - loss: 0.1298 - accuracy: 0.9375\n",
      "Epoch 30: saving model to model/keypoint_classifier\\keypoint_classifier.hdf5\n",
      "18/18 [==============================] - 0s 5ms/step - loss: 0.1813 - accuracy: 0.9305 - val_loss: 0.0221 - val_accuracy: 1.0000\n",
      "Epoch 31/1000\n",
      " 1/18 [>.............................] - ETA: 0s - loss: 0.1942 - accuracy: 0.9297\n",
      "Epoch 31: saving model to model/keypoint_classifier\\keypoint_classifier.hdf5\n",
      "18/18 [==============================] - 0s 5ms/step - loss: 0.1922 - accuracy: 0.9241 - val_loss: 0.0216 - val_accuracy: 1.0000\n",
      "Epoch 32/1000\n",
      " 1/18 [>.............................] - ETA: 0s - loss: 0.1433 - accuracy: 0.9531\n",
      "Epoch 32: saving model to model/keypoint_classifier\\keypoint_classifier.hdf5\n",
      "18/18 [==============================] - 0s 4ms/step - loss: 0.2037 - accuracy: 0.9200 - val_loss: 0.0245 - val_accuracy: 1.0000\n",
      "Epoch 33/1000\n",
      " 1/18 [>.............................] - ETA: 0s - loss: 0.1822 - accuracy: 0.9297\n",
      "Epoch 33: saving model to model/keypoint_classifier\\keypoint_classifier.hdf5\n",
      "18/18 [==============================] - 0s 5ms/step - loss: 0.1813 - accuracy: 0.9286 - val_loss: 0.0225 - val_accuracy: 1.0000\n",
      "Epoch 34/1000\n",
      " 1/18 [>.............................] - ETA: 0s - loss: 0.1715 - accuracy: 0.9219\n",
      "Epoch 34: saving model to model/keypoint_classifier\\keypoint_classifier.hdf5\n",
      "18/18 [==============================] - 0s 4ms/step - loss: 0.1721 - accuracy: 0.9336 - val_loss: 0.0199 - val_accuracy: 1.0000\n",
      "Epoch 35/1000\n",
      " 1/18 [>.............................] - ETA: 0s - loss: 0.1224 - accuracy: 0.9531\n",
      "Epoch 35: saving model to model/keypoint_classifier\\keypoint_classifier.hdf5\n",
      "18/18 [==============================] - 0s 4ms/step - loss: 0.1732 - accuracy: 0.9295 - val_loss: 0.0194 - val_accuracy: 1.0000\n",
      "Epoch 36/1000\n",
      " 1/18 [>.............................] - ETA: 0s - loss: 0.2222 - accuracy: 0.8984\n",
      "Epoch 36: saving model to model/keypoint_classifier\\keypoint_classifier.hdf5\n",
      "18/18 [==============================] - 0s 5ms/step - loss: 0.1960 - accuracy: 0.9223 - val_loss: 0.0200 - val_accuracy: 1.0000\n",
      "Epoch 37/1000\n",
      " 1/18 [>.............................] - ETA: 0s - loss: 0.2014 - accuracy: 0.8984\n",
      "Epoch 37: saving model to model/keypoint_classifier\\keypoint_classifier.hdf5\n",
      "18/18 [==============================] - 0s 4ms/step - loss: 0.1723 - accuracy: 0.9309 - val_loss: 0.0205 - val_accuracy: 1.0000\n",
      "Epoch 38/1000\n",
      " 1/18 [>.............................] - ETA: 0s - loss: 0.1786 - accuracy: 0.9453\n",
      "Epoch 38: saving model to model/keypoint_classifier\\keypoint_classifier.hdf5\n",
      "18/18 [==============================] - 0s 5ms/step - loss: 0.1799 - accuracy: 0.9295 - val_loss: 0.0199 - val_accuracy: 1.0000\n",
      "Epoch 39/1000\n",
      " 1/18 [>.............................] - ETA: 0s - loss: 0.1990 - accuracy: 0.9062\n",
      "Epoch 39: saving model to model/keypoint_classifier\\keypoint_classifier.hdf5\n",
      "18/18 [==============================] - 0s 4ms/step - loss: 0.1780 - accuracy: 0.9318 - val_loss: 0.0208 - val_accuracy: 1.0000\n",
      "Epoch 40/1000\n",
      " 1/18 [>.............................] - ETA: 0s - loss: 0.2011 - accuracy: 0.9062\n",
      "Epoch 40: saving model to model/keypoint_classifier\\keypoint_classifier.hdf5\n",
      "18/18 [==============================] - 0s 5ms/step - loss: 0.1698 - accuracy: 0.9350 - val_loss: 0.0194 - val_accuracy: 1.0000\n",
      "Epoch 41/1000\n",
      " 1/18 [>.............................] - ETA: 0s - loss: 0.1368 - accuracy: 0.9453\n",
      "Epoch 41: saving model to model/keypoint_classifier\\keypoint_classifier.hdf5\n",
      "18/18 [==============================] - 0s 4ms/step - loss: 0.1704 - accuracy: 0.9305 - val_loss: 0.0209 - val_accuracy: 1.0000\n",
      "Epoch 42/1000\n",
      " 1/18 [>.............................] - ETA: 0s - loss: 0.1836 - accuracy: 0.9453\n",
      "Epoch 42: saving model to model/keypoint_classifier\\keypoint_classifier.hdf5\n",
      "18/18 [==============================] - 0s 4ms/step - loss: 0.1717 - accuracy: 0.9318 - val_loss: 0.0177 - val_accuracy: 1.0000\n",
      "Epoch 43/1000\n",
      " 1/18 [>.............................] - ETA: 0s - loss: 0.2187 - accuracy: 0.8984\n",
      "Epoch 43: saving model to model/keypoint_classifier\\keypoint_classifier.hdf5\n",
      "18/18 [==============================] - 0s 10ms/step - loss: 0.1756 - accuracy: 0.9300 - val_loss: 0.0206 - val_accuracy: 1.0000\n",
      "Epoch 44/1000\n",
      " 1/18 [>.............................] - ETA: 0s - loss: 0.1294 - accuracy: 0.9688\n",
      "Epoch 44: saving model to model/keypoint_classifier\\keypoint_classifier.hdf5\n",
      "18/18 [==============================] - 0s 5ms/step - loss: 0.1734 - accuracy: 0.9300 - val_loss: 0.0221 - val_accuracy: 1.0000\n",
      "Epoch 45/1000\n",
      " 1/18 [>.............................] - ETA: 0s - loss: 0.1907 - accuracy: 0.9219\n",
      "Epoch 45: saving model to model/keypoint_classifier\\keypoint_classifier.hdf5\n",
      "18/18 [==============================] - 0s 4ms/step - loss: 0.1773 - accuracy: 0.9295 - val_loss: 0.0221 - val_accuracy: 1.0000\n",
      "Epoch 46/1000\n",
      " 1/18 [>.............................] - ETA: 0s - loss: 0.1677 - accuracy: 0.9453\n",
      "Epoch 46: saving model to model/keypoint_classifier\\keypoint_classifier.hdf5\n",
      "18/18 [==============================] - 0s 4ms/step - loss: 0.1696 - accuracy: 0.9359 - val_loss: 0.0215 - val_accuracy: 1.0000\n",
      "Epoch 47/1000\n",
      " 1/18 [>.............................] - ETA: 0s - loss: 0.1511 - accuracy: 0.9531\n",
      "Epoch 47: saving model to model/keypoint_classifier\\keypoint_classifier.hdf5\n",
      "18/18 [==============================] - 0s 5ms/step - loss: 0.1443 - accuracy: 0.9473 - val_loss: 0.0189 - val_accuracy: 1.0000\n",
      "Epoch 48/1000\n",
      " 1/18 [>.............................] - ETA: 0s - loss: 0.1359 - accuracy: 0.9531\n",
      "Epoch 48: saving model to model/keypoint_classifier\\keypoint_classifier.hdf5\n",
      "18/18 [==============================] - 0s 5ms/step - loss: 0.1429 - accuracy: 0.9459 - val_loss: 0.0142 - val_accuracy: 1.0000\n",
      "Epoch 49/1000\n",
      " 1/18 [>.............................] - ETA: 0s - loss: 0.1365 - accuracy: 0.9297\n",
      "Epoch 49: saving model to model/keypoint_classifier\\keypoint_classifier.hdf5\n",
      "18/18 [==============================] - 0s 5ms/step - loss: 0.1460 - accuracy: 0.9482 - val_loss: 0.0154 - val_accuracy: 1.0000\n",
      "Epoch 50/1000\n",
      " 1/18 [>.............................] - ETA: 0s - loss: 0.2168 - accuracy: 0.9141\n",
      "Epoch 50: saving model to model/keypoint_classifier\\keypoint_classifier.hdf5\n",
      "18/18 [==============================] - 0s 5ms/step - loss: 0.1540 - accuracy: 0.9427 - val_loss: 0.0147 - val_accuracy: 1.0000\n",
      "Epoch 51/1000\n",
      " 1/18 [>.............................] - ETA: 0s - loss: 0.1586 - accuracy: 0.9609\n",
      "Epoch 51: saving model to model/keypoint_classifier\\keypoint_classifier.hdf5\n",
      "18/18 [==============================] - 0s 6ms/step - loss: 0.1409 - accuracy: 0.9491 - val_loss: 0.0170 - val_accuracy: 1.0000\n",
      "Epoch 52/1000\n",
      " 1/18 [>.............................] - ETA: 0s - loss: 0.1324 - accuracy: 0.9766\n",
      "Epoch 52: saving model to model/keypoint_classifier\\keypoint_classifier.hdf5\n",
      "18/18 [==============================] - 0s 5ms/step - loss: 0.1653 - accuracy: 0.9427 - val_loss: 0.0164 - val_accuracy: 1.0000\n",
      "Epoch 53/1000\n",
      " 1/18 [>.............................] - ETA: 0s - loss: 0.1595 - accuracy: 0.9297\n",
      "Epoch 53: saving model to model/keypoint_classifier\\keypoint_classifier.hdf5\n",
      "18/18 [==============================] - 0s 4ms/step - loss: 0.1525 - accuracy: 0.9418 - val_loss: 0.0159 - val_accuracy: 1.0000\n",
      "Epoch 54/1000\n",
      " 1/18 [>.............................] - ETA: 0s - loss: 0.1528 - accuracy: 0.9219\n",
      "Epoch 54: saving model to model/keypoint_classifier\\keypoint_classifier.hdf5\n",
      "18/18 [==============================] - 0s 6ms/step - loss: 0.1504 - accuracy: 0.9427 - val_loss: 0.0152 - val_accuracy: 1.0000\n",
      "Epoch 55/1000\n"
     ]
    },
    {
     "name": "stdout",
     "output_type": "stream",
     "text": [
      " 1/18 [>.............................] - ETA: 0s - loss: 0.1090 - accuracy: 0.9531\n",
      "Epoch 55: saving model to model/keypoint_classifier\\keypoint_classifier.hdf5\n",
      "18/18 [==============================] - 0s 5ms/step - loss: 0.1582 - accuracy: 0.9418 - val_loss: 0.0181 - val_accuracy: 1.0000\n",
      "Epoch 56/1000\n",
      " 1/18 [>.............................] - ETA: 0s - loss: 0.1122 - accuracy: 0.9609\n",
      "Epoch 56: saving model to model/keypoint_classifier\\keypoint_classifier.hdf5\n",
      "18/18 [==============================] - 0s 4ms/step - loss: 0.1590 - accuracy: 0.9395 - val_loss: 0.0188 - val_accuracy: 1.0000\n",
      "Epoch 57/1000\n",
      " 1/18 [>.............................] - ETA: 0s - loss: 0.1559 - accuracy: 0.9531\n",
      "Epoch 57: saving model to model/keypoint_classifier\\keypoint_classifier.hdf5\n",
      "18/18 [==============================] - 0s 4ms/step - loss: 0.1445 - accuracy: 0.9464 - val_loss: 0.0170 - val_accuracy: 1.0000\n",
      "Epoch 58/1000\n",
      " 1/18 [>.............................] - ETA: 0s - loss: 0.1750 - accuracy: 0.9062\n",
      "Epoch 58: saving model to model/keypoint_classifier\\keypoint_classifier.hdf5\n",
      "18/18 [==============================] - 0s 4ms/step - loss: 0.1510 - accuracy: 0.9414 - val_loss: 0.0151 - val_accuracy: 1.0000\n",
      "Epoch 59/1000\n",
      " 1/18 [>.............................] - ETA: 0s - loss: 0.1052 - accuracy: 0.9531\n",
      "Epoch 59: saving model to model/keypoint_classifier\\keypoint_classifier.hdf5\n",
      "18/18 [==============================] - 0s 4ms/step - loss: 0.1283 - accuracy: 0.9518 - val_loss: 0.0140 - val_accuracy: 1.0000\n",
      "Epoch 60/1000\n",
      " 1/18 [>.............................] - ETA: 0s - loss: 0.1150 - accuracy: 0.9531\n",
      "Epoch 60: saving model to model/keypoint_classifier\\keypoint_classifier.hdf5\n",
      "18/18 [==============================] - 0s 4ms/step - loss: 0.1560 - accuracy: 0.9377 - val_loss: 0.0130 - val_accuracy: 1.0000\n",
      "Epoch 61/1000\n",
      " 1/18 [>.............................] - ETA: 0s - loss: 0.1503 - accuracy: 0.9375\n",
      "Epoch 61: saving model to model/keypoint_classifier\\keypoint_classifier.hdf5\n",
      "18/18 [==============================] - 0s 4ms/step - loss: 0.1515 - accuracy: 0.9418 - val_loss: 0.0134 - val_accuracy: 1.0000\n",
      "Epoch 62/1000\n",
      " 1/18 [>.............................] - ETA: 0s - loss: 0.1660 - accuracy: 0.9219\n",
      "Epoch 62: saving model to model/keypoint_classifier\\keypoint_classifier.hdf5\n",
      "18/18 [==============================] - 0s 5ms/step - loss: 0.1294 - accuracy: 0.9536 - val_loss: 0.0136 - val_accuracy: 1.0000\n",
      "Epoch 63/1000\n",
      " 1/18 [>.............................] - ETA: 0s - loss: 0.0952 - accuracy: 0.9531\n",
      "Epoch 63: saving model to model/keypoint_classifier\\keypoint_classifier.hdf5\n",
      "18/18 [==============================] - 0s 6ms/step - loss: 0.1456 - accuracy: 0.9455 - val_loss: 0.0161 - val_accuracy: 1.0000\n",
      "Epoch 64/1000\n",
      " 1/18 [>.............................] - ETA: 0s - loss: 0.1178 - accuracy: 0.9609\n",
      "Epoch 64: saving model to model/keypoint_classifier\\keypoint_classifier.hdf5\n",
      "18/18 [==============================] - 0s 5ms/step - loss: 0.1415 - accuracy: 0.9518 - val_loss: 0.0129 - val_accuracy: 1.0000\n",
      "Epoch 65/1000\n",
      " 1/18 [>.............................] - ETA: 0s - loss: 0.1560 - accuracy: 0.9297\n",
      "Epoch 65: saving model to model/keypoint_classifier\\keypoint_classifier.hdf5\n",
      "18/18 [==============================] - 0s 5ms/step - loss: 0.1446 - accuracy: 0.9459 - val_loss: 0.0152 - val_accuracy: 1.0000\n",
      "Epoch 66/1000\n",
      " 1/18 [>.............................] - ETA: 0s - loss: 0.1578 - accuracy: 0.9531\n",
      "Epoch 66: saving model to model/keypoint_classifier\\keypoint_classifier.hdf5\n",
      "18/18 [==============================] - 0s 6ms/step - loss: 0.1459 - accuracy: 0.9486 - val_loss: 0.0158 - val_accuracy: 1.0000\n",
      "Epoch 67/1000\n",
      " 1/18 [>.............................] - ETA: 0s - loss: 0.1203 - accuracy: 0.9531\n",
      "Epoch 67: saving model to model/keypoint_classifier\\keypoint_classifier.hdf5\n",
      "18/18 [==============================] - 0s 4ms/step - loss: 0.1325 - accuracy: 0.9523 - val_loss: 0.0142 - val_accuracy: 1.0000\n",
      "Epoch 68/1000\n",
      " 1/18 [>.............................] - ETA: 0s - loss: 0.0969 - accuracy: 0.9688\n",
      "Epoch 68: saving model to model/keypoint_classifier\\keypoint_classifier.hdf5\n",
      "18/18 [==============================] - 0s 5ms/step - loss: 0.1229 - accuracy: 0.9536 - val_loss: 0.0116 - val_accuracy: 1.0000\n",
      "Epoch 69/1000\n",
      " 1/18 [>.............................] - ETA: 0s - loss: 0.0997 - accuracy: 0.9844\n",
      "Epoch 69: saving model to model/keypoint_classifier\\keypoint_classifier.hdf5\n",
      "18/18 [==============================] - 0s 4ms/step - loss: 0.1274 - accuracy: 0.9555 - val_loss: 0.0101 - val_accuracy: 1.0000\n",
      "Epoch 70/1000\n",
      " 1/18 [>.............................] - ETA: 0s - loss: 0.1471 - accuracy: 0.9453\n",
      "Epoch 70: saving model to model/keypoint_classifier\\keypoint_classifier.hdf5\n",
      "18/18 [==============================] - 0s 4ms/step - loss: 0.1262 - accuracy: 0.9550 - val_loss: 0.0117 - val_accuracy: 1.0000\n",
      "Epoch 71/1000\n",
      " 1/18 [>.............................] - ETA: 0s - loss: 0.1636 - accuracy: 0.9453\n",
      "Epoch 71: saving model to model/keypoint_classifier\\keypoint_classifier.hdf5\n",
      "18/18 [==============================] - 0s 4ms/step - loss: 0.1270 - accuracy: 0.9545 - val_loss: 0.0121 - val_accuracy: 1.0000\n",
      "Epoch 72/1000\n",
      " 1/18 [>.............................] - ETA: 0s - loss: 0.0741 - accuracy: 0.9766\n",
      "Epoch 72: saving model to model/keypoint_classifier\\keypoint_classifier.hdf5\n",
      "18/18 [==============================] - 0s 5ms/step - loss: 0.1305 - accuracy: 0.9473 - val_loss: 0.0124 - val_accuracy: 1.0000\n",
      "Epoch 73/1000\n",
      " 1/18 [>.............................] - ETA: 0s - loss: 0.1523 - accuracy: 0.9375\n",
      "Epoch 73: saving model to model/keypoint_classifier\\keypoint_classifier.hdf5\n",
      "18/18 [==============================] - 0s 5ms/step - loss: 0.1359 - accuracy: 0.9477 - val_loss: 0.0138 - val_accuracy: 1.0000\n",
      "Epoch 74/1000\n",
      " 1/18 [>.............................] - ETA: 0s - loss: 0.0781 - accuracy: 0.9766\n",
      "Epoch 74: saving model to model/keypoint_classifier\\keypoint_classifier.hdf5\n",
      "18/18 [==============================] - 0s 4ms/step - loss: 0.1217 - accuracy: 0.9559 - val_loss: 0.0141 - val_accuracy: 1.0000\n",
      "Epoch 75/1000\n",
      " 1/18 [>.............................] - ETA: 0s - loss: 0.0928 - accuracy: 0.9688\n",
      "Epoch 75: saving model to model/keypoint_classifier\\keypoint_classifier.hdf5\n",
      "18/18 [==============================] - 0s 4ms/step - loss: 0.1109 - accuracy: 0.9550 - val_loss: 0.0113 - val_accuracy: 1.0000\n",
      "Epoch 76/1000\n",
      " 1/18 [>.............................] - ETA: 0s - loss: 0.1770 - accuracy: 0.9297\n",
      "Epoch 76: saving model to model/keypoint_classifier\\keypoint_classifier.hdf5\n",
      "18/18 [==============================] - 0s 4ms/step - loss: 0.1538 - accuracy: 0.9423 - val_loss: 0.0124 - val_accuracy: 1.0000\n",
      "Epoch 77/1000\n",
      " 1/18 [>.............................] - ETA: 0s - loss: 0.1291 - accuracy: 0.9609\n",
      "Epoch 77: saving model to model/keypoint_classifier\\keypoint_classifier.hdf5\n",
      "18/18 [==============================] - 0s 4ms/step - loss: 0.1085 - accuracy: 0.9586 - val_loss: 0.0121 - val_accuracy: 1.0000\n",
      "Epoch 78/1000\n",
      " 1/18 [>.............................] - ETA: 0s - loss: 0.1092 - accuracy: 0.9609\n",
      "Epoch 78: saving model to model/keypoint_classifier\\keypoint_classifier.hdf5\n",
      "18/18 [==============================] - 0s 4ms/step - loss: 0.1250 - accuracy: 0.9555 - val_loss: 0.0102 - val_accuracy: 1.0000\n",
      "Epoch 79/1000\n",
      " 1/18 [>.............................] - ETA: 0s - loss: 0.0672 - accuracy: 0.9766\n",
      "Epoch 79: saving model to model/keypoint_classifier\\keypoint_classifier.hdf5\n",
      "18/18 [==============================] - 0s 4ms/step - loss: 0.1221 - accuracy: 0.9550 - val_loss: 0.0085 - val_accuracy: 1.0000\n",
      "Epoch 80/1000\n",
      " 1/18 [>.............................] - ETA: 0s - loss: 0.1988 - accuracy: 0.9219\n",
      "Epoch 80: saving model to model/keypoint_classifier\\keypoint_classifier.hdf5\n",
      "18/18 [==============================] - 0s 5ms/step - loss: 0.1355 - accuracy: 0.9495 - val_loss: 0.0102 - val_accuracy: 1.0000\n",
      "Epoch 81/1000\n",
      " 1/18 [>.............................] - ETA: 0s - loss: 0.1085 - accuracy: 0.9609\n",
      "Epoch 81: saving model to model/keypoint_classifier\\keypoint_classifier.hdf5\n",
      "18/18 [==============================] - 0s 4ms/step - loss: 0.1044 - accuracy: 0.9614 - val_loss: 0.0088 - val_accuracy: 1.0000\n",
      "Epoch 82/1000\n",
      " 1/18 [>.............................] - ETA: 0s - loss: 0.1836 - accuracy: 0.9297\n",
      "Epoch 82: saving model to model/keypoint_classifier\\keypoint_classifier.hdf5\n",
      "18/18 [==============================] - 0s 4ms/step - loss: 0.1371 - accuracy: 0.9495 - val_loss: 0.0094 - val_accuracy: 1.0000\n",
      "Epoch 83/1000\n",
      " 1/18 [>.............................] - ETA: 0s - loss: 0.1098 - accuracy: 0.9531\n",
      "Epoch 83: saving model to model/keypoint_classifier\\keypoint_classifier.hdf5\n",
      "18/18 [==============================] - 0s 5ms/step - loss: 0.1292 - accuracy: 0.9523 - val_loss: 0.0106 - val_accuracy: 1.0000\n",
      "Epoch 84/1000\n",
      " 1/18 [>.............................] - ETA: 0s - loss: 0.1380 - accuracy: 0.9609\n",
      "Epoch 84: saving model to model/keypoint_classifier\\keypoint_classifier.hdf5\n",
      "18/18 [==============================] - 0s 5ms/step - loss: 0.1129 - accuracy: 0.9614 - val_loss: 0.0109 - val_accuracy: 1.0000\n",
      "Epoch 85/1000\n",
      " 1/18 [>.............................] - ETA: 0s - loss: 0.2085 - accuracy: 0.9609\n",
      "Epoch 85: saving model to model/keypoint_classifier\\keypoint_classifier.hdf5\n",
      "18/18 [==============================] - 0s 5ms/step - loss: 0.1260 - accuracy: 0.9532 - val_loss: 0.0105 - val_accuracy: 1.0000\n",
      "Epoch 86/1000\n",
      " 1/18 [>.............................] - ETA: 0s - loss: 0.1212 - accuracy: 0.9531\n",
      "Epoch 86: saving model to model/keypoint_classifier\\keypoint_classifier.hdf5\n",
      "18/18 [==============================] - 0s 4ms/step - loss: 0.1254 - accuracy: 0.9514 - val_loss: 0.0106 - val_accuracy: 1.0000\n",
      "Epoch 87/1000\n",
      " 1/18 [>.............................] - ETA: 0s - loss: 0.1729 - accuracy: 0.9297\n",
      "Epoch 87: saving model to model/keypoint_classifier\\keypoint_classifier.hdf5\n",
      "18/18 [==============================] - 0s 4ms/step - loss: 0.1184 - accuracy: 0.9559 - val_loss: 0.0083 - val_accuracy: 1.0000\n",
      "Epoch 88/1000\n",
      " 1/18 [>.............................] - ETA: 0s - loss: 0.0953 - accuracy: 0.9766\n",
      "Epoch 88: saving model to model/keypoint_classifier\\keypoint_classifier.hdf5\n",
      "18/18 [==============================] - 0s 5ms/step - loss: 0.1141 - accuracy: 0.9609 - val_loss: 0.0102 - val_accuracy: 1.0000\n",
      "Epoch 89/1000\n",
      " 1/18 [>.............................] - ETA: 0s - loss: 0.0883 - accuracy: 0.9688\n",
      "Epoch 89: saving model to model/keypoint_classifier\\keypoint_classifier.hdf5\n",
      "18/18 [==============================] - 0s 9ms/step - loss: 0.1080 - accuracy: 0.9573 - val_loss: 0.0093 - val_accuracy: 1.0000\n",
      "Epoch 90/1000\n",
      " 1/18 [>.............................] - ETA: 0s - loss: 0.0829 - accuracy: 0.9688\n",
      "Epoch 90: saving model to model/keypoint_classifier\\keypoint_classifier.hdf5\n",
      "18/18 [==============================] - 0s 6ms/step - loss: 0.1209 - accuracy: 0.9577 - val_loss: 0.0091 - val_accuracy: 1.0000\n",
      "Epoch 91/1000\n",
      " 1/18 [>.............................] - ETA: 0s - loss: 0.1198 - accuracy: 0.9297\n",
      "Epoch 91: saving model to model/keypoint_classifier\\keypoint_classifier.hdf5\n",
      "18/18 [==============================] - 0s 4ms/step - loss: 0.1195 - accuracy: 0.9527 - val_loss: 0.0085 - val_accuracy: 1.0000\n",
      "Epoch 92/1000\n",
      " 1/18 [>.............................] - ETA: 0s - loss: 0.1068 - accuracy: 0.9609\n",
      "Epoch 92: saving model to model/keypoint_classifier\\keypoint_classifier.hdf5\n",
      "18/18 [==============================] - 0s 4ms/step - loss: 0.1210 - accuracy: 0.9509 - val_loss: 0.0105 - val_accuracy: 1.0000\n",
      "Epoch 93/1000\n",
      " 1/18 [>.............................] - ETA: 0s - loss: 0.0805 - accuracy: 0.9688\n",
      "Epoch 93: saving model to model/keypoint_classifier\\keypoint_classifier.hdf5\n",
      "18/18 [==============================] - 0s 4ms/step - loss: 0.1232 - accuracy: 0.9545 - val_loss: 0.0113 - val_accuracy: 1.0000\n",
      "Epoch 94/1000\n",
      " 1/18 [>.............................] - ETA: 0s - loss: 0.0768 - accuracy: 0.9766\n",
      "Epoch 94: saving model to model/keypoint_classifier\\keypoint_classifier.hdf5\n",
      "18/18 [==============================] - 0s 4ms/step - loss: 0.1120 - accuracy: 0.9582 - val_loss: 0.0094 - val_accuracy: 1.0000\n",
      "Epoch 95/1000\n",
      " 1/18 [>.............................] - ETA: 0s - loss: 0.2351 - accuracy: 0.9375\n",
      "Epoch 95: saving model to model/keypoint_classifier\\keypoint_classifier.hdf5\n",
      "18/18 [==============================] - 0s 4ms/step - loss: 0.1305 - accuracy: 0.9550 - val_loss: 0.0107 - val_accuracy: 1.0000\n",
      "Epoch 96/1000\n",
      " 1/18 [>.............................] - ETA: 0s - loss: 0.0941 - accuracy: 0.9688\n",
      "Epoch 96: saving model to model/keypoint_classifier\\keypoint_classifier.hdf5\n",
      "18/18 [==============================] - 0s 4ms/step - loss: 0.1114 - accuracy: 0.9573 - val_loss: 0.0094 - val_accuracy: 1.0000\n",
      "Epoch 97/1000\n",
      " 1/18 [>.............................] - ETA: 0s - loss: 0.1059 - accuracy: 0.9609\n",
      "Epoch 97: saving model to model/keypoint_classifier\\keypoint_classifier.hdf5\n",
      "18/18 [==============================] - 0s 4ms/step - loss: 0.1136 - accuracy: 0.9568 - val_loss: 0.0103 - val_accuracy: 1.0000\n",
      "Epoch 98/1000\n",
      " 1/18 [>.............................] - ETA: 0s - loss: 0.0684 - accuracy: 0.9766\n",
      "Epoch 98: saving model to model/keypoint_classifier\\keypoint_classifier.hdf5\n",
      "18/18 [==============================] - 0s 4ms/step - loss: 0.1111 - accuracy: 0.9614 - val_loss: 0.0089 - val_accuracy: 1.0000\n",
      "Epoch 99/1000\n",
      " 1/18 [>.............................] - ETA: 0s - loss: 0.0639 - accuracy: 0.9688\n",
      "Epoch 99: saving model to model/keypoint_classifier\\keypoint_classifier.hdf5\n",
      "18/18 [==============================] - 0s 4ms/step - loss: 0.0946 - accuracy: 0.9705 - val_loss: 0.0078 - val_accuracy: 1.0000\n",
      "Epoch 100/1000\n",
      " 1/18 [>.............................] - ETA: 0s - loss: 0.0848 - accuracy: 0.9688\n",
      "Epoch 100: saving model to model/keypoint_classifier\\keypoint_classifier.hdf5\n",
      "18/18 [==============================] - 0s 4ms/step - loss: 0.1143 - accuracy: 0.9545 - val_loss: 0.0088 - val_accuracy: 1.0000\n",
      "Epoch 101/1000\n",
      " 1/18 [>.............................] - ETA: 0s - loss: 0.0808 - accuracy: 0.9609\n",
      "Epoch 101: saving model to model/keypoint_classifier\\keypoint_classifier.hdf5\n",
      "18/18 [==============================] - 0s 4ms/step - loss: 0.0899 - accuracy: 0.9668 - val_loss: 0.0085 - val_accuracy: 1.0000\n",
      "Epoch 102/1000\n",
      " 1/18 [>.............................] - ETA: 0s - loss: 0.1600 - accuracy: 0.9453\n",
      "Epoch 102: saving model to model/keypoint_classifier\\keypoint_classifier.hdf5\n",
      "18/18 [==============================] - 0s 5ms/step - loss: 0.1022 - accuracy: 0.9645 - val_loss: 0.0086 - val_accuracy: 1.0000\n",
      "Epoch 103/1000\n",
      " 1/18 [>.............................] - ETA: 0s - loss: 0.1841 - accuracy: 0.9453\n",
      "Epoch 103: saving model to model/keypoint_classifier\\keypoint_classifier.hdf5\n",
      "18/18 [==============================] - 0s 6ms/step - loss: 0.1157 - accuracy: 0.9555 - val_loss: 0.0086 - val_accuracy: 1.0000\n",
      "Epoch 104/1000\n",
      " 1/18 [>.............................] - ETA: 0s - loss: 0.0926 - accuracy: 0.9609\n",
      "Epoch 104: saving model to model/keypoint_classifier\\keypoint_classifier.hdf5\n",
      "18/18 [==============================] - 0s 5ms/step - loss: 0.1086 - accuracy: 0.9614 - val_loss: 0.0080 - val_accuracy: 1.0000\n",
      "Epoch 105/1000\n",
      " 1/18 [>.............................] - ETA: 0s - loss: 0.0854 - accuracy: 0.9844\n",
      "Epoch 105: saving model to model/keypoint_classifier\\keypoint_classifier.hdf5\n",
      "18/18 [==============================] - 0s 5ms/step - loss: 0.0995 - accuracy: 0.9636 - val_loss: 0.0078 - val_accuracy: 1.0000\n",
      "Epoch 106/1000\n",
      " 1/18 [>.............................] - ETA: 0s - loss: 0.1405 - accuracy: 0.9688\n",
      "Epoch 106: saving model to model/keypoint_classifier\\keypoint_classifier.hdf5\n",
      "18/18 [==============================] - 0s 4ms/step - loss: 0.1168 - accuracy: 0.9532 - val_loss: 0.0099 - val_accuracy: 1.0000\n",
      "Epoch 107/1000\n",
      " 1/18 [>.............................] - ETA: 0s - loss: 0.0891 - accuracy: 0.9609\n",
      "Epoch 107: saving model to model/keypoint_classifier\\keypoint_classifier.hdf5\n",
      "18/18 [==============================] - 0s 4ms/step - loss: 0.1138 - accuracy: 0.9545 - val_loss: 0.0099 - val_accuracy: 1.0000\n",
      "Epoch 108/1000\n",
      " 1/18 [>.............................] - ETA: 0s - loss: 0.0760 - accuracy: 0.9531\n",
      "Epoch 108: saving model to model/keypoint_classifier\\keypoint_classifier.hdf5\n",
      "18/18 [==============================] - 0s 4ms/step - loss: 0.0983 - accuracy: 0.9600 - val_loss: 0.0081 - val_accuracy: 1.0000\n",
      "Epoch 109/1000\n"
     ]
    },
    {
     "name": "stdout",
     "output_type": "stream",
     "text": [
      " 1/18 [>.............................] - ETA: 0s - loss: 0.1159 - accuracy: 0.9609\n",
      "Epoch 109: saving model to model/keypoint_classifier\\keypoint_classifier.hdf5\n",
      "18/18 [==============================] - 0s 4ms/step - loss: 0.1074 - accuracy: 0.9614 - val_loss: 0.0072 - val_accuracy: 1.0000\n",
      "Epoch 110/1000\n",
      " 1/18 [>.............................] - ETA: 0s - loss: 0.0681 - accuracy: 0.9609\n",
      "Epoch 110: saving model to model/keypoint_classifier\\keypoint_classifier.hdf5\n",
      "18/18 [==============================] - 0s 5ms/step - loss: 0.1088 - accuracy: 0.9618 - val_loss: 0.0070 - val_accuracy: 1.0000\n",
      "Epoch 111/1000\n",
      " 1/18 [>.............................] - ETA: 0s - loss: 0.1295 - accuracy: 0.9688\n",
      "Epoch 111: saving model to model/keypoint_classifier\\keypoint_classifier.hdf5\n",
      "18/18 [==============================] - 0s 4ms/step - loss: 0.0986 - accuracy: 0.9614 - val_loss: 0.0074 - val_accuracy: 1.0000\n",
      "Epoch 112/1000\n",
      " 1/18 [>.............................] - ETA: 0s - loss: 0.0827 - accuracy: 0.9766\n",
      "Epoch 112: saving model to model/keypoint_classifier\\keypoint_classifier.hdf5\n",
      "18/18 [==============================] - 0s 4ms/step - loss: 0.0931 - accuracy: 0.9632 - val_loss: 0.0074 - val_accuracy: 1.0000\n",
      "Epoch 113/1000\n",
      " 1/18 [>.............................] - ETA: 0s - loss: 0.1258 - accuracy: 0.9453\n",
      "Epoch 113: saving model to model/keypoint_classifier\\keypoint_classifier.hdf5\n",
      "18/18 [==============================] - 0s 4ms/step - loss: 0.1004 - accuracy: 0.9591 - val_loss: 0.0079 - val_accuracy: 1.0000\n",
      "Epoch 114/1000\n",
      " 1/18 [>.............................] - ETA: 0s - loss: 0.0458 - accuracy: 0.9922\n",
      "Epoch 114: saving model to model/keypoint_classifier\\keypoint_classifier.hdf5\n",
      "18/18 [==============================] - 0s 4ms/step - loss: 0.0860 - accuracy: 0.9691 - val_loss: 0.0059 - val_accuracy: 1.0000\n",
      "Epoch 115/1000\n",
      " 1/18 [>.............................] - ETA: 0s - loss: 0.1101 - accuracy: 0.9688\n",
      "Epoch 115: saving model to model/keypoint_classifier\\keypoint_classifier.hdf5\n",
      "18/18 [==============================] - 0s 4ms/step - loss: 0.0963 - accuracy: 0.9595 - val_loss: 0.0061 - val_accuracy: 1.0000\n",
      "Epoch 116/1000\n",
      " 1/18 [>.............................] - ETA: 0s - loss: 0.1539 - accuracy: 0.9219\n",
      "Epoch 116: saving model to model/keypoint_classifier\\keypoint_classifier.hdf5\n",
      "18/18 [==============================] - 0s 5ms/step - loss: 0.1116 - accuracy: 0.9545 - val_loss: 0.0086 - val_accuracy: 1.0000\n",
      "Epoch 117/1000\n",
      " 1/18 [>.............................] - ETA: 0s - loss: 0.0542 - accuracy: 0.9766\n",
      "Epoch 117: saving model to model/keypoint_classifier\\keypoint_classifier.hdf5\n",
      "18/18 [==============================] - 0s 5ms/step - loss: 0.0856 - accuracy: 0.9686 - val_loss: 0.0077 - val_accuracy: 1.0000\n",
      "Epoch 118/1000\n",
      " 1/18 [>.............................] - ETA: 0s - loss: 0.0800 - accuracy: 0.9688\n",
      "Epoch 118: saving model to model/keypoint_classifier\\keypoint_classifier.hdf5\n",
      "18/18 [==============================] - 0s 6ms/step - loss: 0.0884 - accuracy: 0.9709 - val_loss: 0.0069 - val_accuracy: 1.0000\n",
      "Epoch 119/1000\n",
      " 1/18 [>.............................] - ETA: 0s - loss: 0.1358 - accuracy: 0.9453\n",
      "Epoch 119: saving model to model/keypoint_classifier\\keypoint_classifier.hdf5\n",
      "18/18 [==============================] - 0s 4ms/step - loss: 0.1055 - accuracy: 0.9609 - val_loss: 0.0076 - val_accuracy: 1.0000\n",
      "Epoch 120/1000\n",
      " 1/18 [>.............................] - ETA: 0s - loss: 0.0894 - accuracy: 0.9766\n",
      "Epoch 120: saving model to model/keypoint_classifier\\keypoint_classifier.hdf5\n",
      "18/18 [==============================] - 0s 4ms/step - loss: 0.0976 - accuracy: 0.9659 - val_loss: 0.0112 - val_accuracy: 1.0000\n",
      "Epoch 121/1000\n",
      " 1/18 [>.............................] - ETA: 0s - loss: 0.0595 - accuracy: 0.9766\n",
      "Epoch 121: saving model to model/keypoint_classifier\\keypoint_classifier.hdf5\n",
      "18/18 [==============================] - 0s 6ms/step - loss: 0.0822 - accuracy: 0.9677 - val_loss: 0.0085 - val_accuracy: 1.0000\n",
      "Epoch 122/1000\n",
      " 1/18 [>.............................] - ETA: 0s - loss: 0.0615 - accuracy: 0.9922\n",
      "Epoch 122: saving model to model/keypoint_classifier\\keypoint_classifier.hdf5\n",
      "18/18 [==============================] - 0s 4ms/step - loss: 0.0799 - accuracy: 0.9732 - val_loss: 0.0070 - val_accuracy: 1.0000\n",
      "Epoch 123/1000\n",
      " 1/18 [>.............................] - ETA: 0s - loss: 0.0663 - accuracy: 0.9688\n",
      "Epoch 123: saving model to model/keypoint_classifier\\keypoint_classifier.hdf5\n",
      "18/18 [==============================] - 0s 4ms/step - loss: 0.1031 - accuracy: 0.9641 - val_loss: 0.0073 - val_accuracy: 1.0000\n",
      "Epoch 124/1000\n",
      " 1/18 [>.............................] - ETA: 0s - loss: 0.0532 - accuracy: 0.9766\n",
      "Epoch 124: saving model to model/keypoint_classifier\\keypoint_classifier.hdf5\n",
      "18/18 [==============================] - 0s 4ms/step - loss: 0.0999 - accuracy: 0.9641 - val_loss: 0.0069 - val_accuracy: 1.0000\n",
      "Epoch 125/1000\n",
      " 1/18 [>.............................] - ETA: 0s - loss: 0.1400 - accuracy: 0.9609\n",
      "Epoch 125: saving model to model/keypoint_classifier\\keypoint_classifier.hdf5\n",
      "18/18 [==============================] - 0s 4ms/step - loss: 0.0920 - accuracy: 0.9664 - val_loss: 0.0086 - val_accuracy: 1.0000\n",
      "Epoch 126/1000\n",
      " 1/18 [>.............................] - ETA: 0s - loss: 0.1096 - accuracy: 0.9688\n",
      "Epoch 126: saving model to model/keypoint_classifier\\keypoint_classifier.hdf5\n",
      "18/18 [==============================] - 0s 4ms/step - loss: 0.0888 - accuracy: 0.9677 - val_loss: 0.0076 - val_accuracy: 1.0000\n",
      "Epoch 127/1000\n",
      " 1/18 [>.............................] - ETA: 0s - loss: 0.0923 - accuracy: 0.9609\n",
      "Epoch 127: saving model to model/keypoint_classifier\\keypoint_classifier.hdf5\n",
      "18/18 [==============================] - 0s 4ms/step - loss: 0.0872 - accuracy: 0.9691 - val_loss: 0.0067 - val_accuracy: 1.0000\n",
      "Epoch 128/1000\n",
      " 1/18 [>.............................] - ETA: 0s - loss: 0.1344 - accuracy: 0.9453\n",
      "Epoch 128: saving model to model/keypoint_classifier\\keypoint_classifier.hdf5\n",
      "18/18 [==============================] - 0s 5ms/step - loss: 0.0932 - accuracy: 0.9636 - val_loss: 0.0075 - val_accuracy: 1.0000\n",
      "Epoch 129/1000\n",
      " 1/18 [>.............................] - ETA: 0s - loss: 0.1116 - accuracy: 0.9453\n",
      "Epoch 129: saving model to model/keypoint_classifier\\keypoint_classifier.hdf5\n",
      "18/18 [==============================] - 0s 5ms/step - loss: 0.0839 - accuracy: 0.9668 - val_loss: 0.0072 - val_accuracy: 1.0000\n",
      "Epoch 130/1000\n",
      " 1/18 [>.............................] - ETA: 0s - loss: 0.0962 - accuracy: 0.9531\n",
      "Epoch 130: saving model to model/keypoint_classifier\\keypoint_classifier.hdf5\n",
      "18/18 [==============================] - 0s 6ms/step - loss: 0.0965 - accuracy: 0.9636 - val_loss: 0.0068 - val_accuracy: 1.0000\n",
      "Epoch 131/1000\n",
      " 1/18 [>.............................] - ETA: 0s - loss: 0.0847 - accuracy: 0.9688\n",
      "Epoch 131: saving model to model/keypoint_classifier\\keypoint_classifier.hdf5\n",
      "18/18 [==============================] - 0s 5ms/step - loss: 0.0823 - accuracy: 0.9645 - val_loss: 0.0082 - val_accuracy: 1.0000\n",
      "Epoch 132/1000\n",
      " 1/18 [>.............................] - ETA: 0s - loss: 0.0993 - accuracy: 0.9688\n",
      "Epoch 132: saving model to model/keypoint_classifier\\keypoint_classifier.hdf5\n",
      "18/18 [==============================] - 0s 4ms/step - loss: 0.0828 - accuracy: 0.9700 - val_loss: 0.0067 - val_accuracy: 1.0000\n",
      "Epoch 133/1000\n",
      " 1/18 [>.............................] - ETA: 0s - loss: 0.0684 - accuracy: 0.9688\n",
      "Epoch 133: saving model to model/keypoint_classifier\\keypoint_classifier.hdf5\n",
      "18/18 [==============================] - 0s 4ms/step - loss: 0.0680 - accuracy: 0.9759 - val_loss: 0.0058 - val_accuracy: 1.0000\n",
      "Epoch 134/1000\n",
      " 1/18 [>.............................] - ETA: 0s - loss: 0.0697 - accuracy: 0.9609\n",
      "Epoch 134: saving model to model/keypoint_classifier\\keypoint_classifier.hdf5\n",
      "18/18 [==============================] - 0s 5ms/step - loss: 0.1084 - accuracy: 0.9600 - val_loss: 0.0073 - val_accuracy: 1.0000\n",
      "Epoch 135/1000\n",
      " 1/18 [>.............................] - ETA: 0s - loss: 0.1330 - accuracy: 0.9375\n",
      "Epoch 135: saving model to model/keypoint_classifier\\keypoint_classifier.hdf5\n",
      "18/18 [==============================] - 0s 5ms/step - loss: 0.0862 - accuracy: 0.9664 - val_loss: 0.0075 - val_accuracy: 1.0000\n"
     ]
    },
    {
     "name": "stdout",
     "output_type": "stream",
     "text": [
      "Epoch 136/1000\n",
      " 1/18 [>.............................] - ETA: 0s - loss: 0.0697 - accuracy: 0.9766\n",
      "Epoch 136: saving model to model/keypoint_classifier\\keypoint_classifier.hdf5\n",
      "18/18 [==============================] - 0s 5ms/step - loss: 0.0800 - accuracy: 0.9714 - val_loss: 0.0060 - val_accuracy: 1.0000\n",
      "Epoch 137/1000\n",
      " 1/18 [>.............................] - ETA: 0s - loss: 0.1174 - accuracy: 0.9688\n",
      "Epoch 137: saving model to model/keypoint_classifier\\keypoint_classifier.hdf5\n",
      "18/18 [==============================] - 0s 6ms/step - loss: 0.0918 - accuracy: 0.9695 - val_loss: 0.0067 - val_accuracy: 1.0000\n",
      "Epoch 138/1000\n",
      " 1/18 [>.............................] - ETA: 0s - loss: 0.0943 - accuracy: 0.9766\n",
      "Epoch 138: saving model to model/keypoint_classifier\\keypoint_classifier.hdf5\n",
      "18/18 [==============================] - 0s 4ms/step - loss: 0.0830 - accuracy: 0.9732 - val_loss: 0.0072 - val_accuracy: 1.0000\n",
      "Epoch 139/1000\n",
      " 1/18 [>.............................] - ETA: 0s - loss: 0.1618 - accuracy: 0.9453\n",
      "Epoch 139: saving model to model/keypoint_classifier\\keypoint_classifier.hdf5\n",
      "18/18 [==============================] - 0s 5ms/step - loss: 0.0784 - accuracy: 0.9723 - val_loss: 0.0066 - val_accuracy: 1.0000\n",
      "Epoch 140/1000\n",
      " 1/18 [>.............................] - ETA: 0s - loss: 0.0865 - accuracy: 0.9766\n",
      "Epoch 140: saving model to model/keypoint_classifier\\keypoint_classifier.hdf5\n",
      "18/18 [==============================] - 0s 5ms/step - loss: 0.0953 - accuracy: 0.9650 - val_loss: 0.0060 - val_accuracy: 1.0000\n",
      "Epoch 141/1000\n",
      " 1/18 [>.............................] - ETA: 0s - loss: 0.0751 - accuracy: 0.9609\n",
      "Epoch 141: saving model to model/keypoint_classifier\\keypoint_classifier.hdf5\n",
      "18/18 [==============================] - 0s 6ms/step - loss: 0.0749 - accuracy: 0.9695 - val_loss: 0.0054 - val_accuracy: 1.0000\n",
      "Epoch 142/1000\n",
      " 1/18 [>.............................] - ETA: 0s - loss: 0.0705 - accuracy: 0.9688\n",
      "Epoch 142: saving model to model/keypoint_classifier\\keypoint_classifier.hdf5\n",
      "18/18 [==============================] - 0s 5ms/step - loss: 0.0739 - accuracy: 0.9723 - val_loss: 0.0057 - val_accuracy: 1.0000\n",
      "Epoch 143/1000\n",
      " 1/18 [>.............................] - ETA: 0s - loss: 0.0803 - accuracy: 0.9766\n",
      "Epoch 143: saving model to model/keypoint_classifier\\keypoint_classifier.hdf5\n",
      "18/18 [==============================] - 0s 5ms/step - loss: 0.0849 - accuracy: 0.9682 - val_loss: 0.0063 - val_accuracy: 1.0000\n",
      "Epoch 144/1000\n",
      " 1/18 [>.............................] - ETA: 0s - loss: 0.0529 - accuracy: 0.9766\n",
      "Epoch 144: saving model to model/keypoint_classifier\\keypoint_classifier.hdf5\n",
      "18/18 [==============================] - 0s 4ms/step - loss: 0.0850 - accuracy: 0.9691 - val_loss: 0.0082 - val_accuracy: 1.0000\n",
      "Epoch 145/1000\n",
      " 1/18 [>.............................] - ETA: 0s - loss: 0.1064 - accuracy: 0.9453\n",
      "Epoch 145: saving model to model/keypoint_classifier\\keypoint_classifier.hdf5\n",
      "18/18 [==============================] - 0s 5ms/step - loss: 0.0751 - accuracy: 0.9750 - val_loss: 0.0076 - val_accuracy: 1.0000\n",
      "Epoch 146/1000\n",
      " 1/18 [>.............................] - ETA: 0s - loss: 0.0701 - accuracy: 0.9766\n",
      "Epoch 146: saving model to model/keypoint_classifier\\keypoint_classifier.hdf5\n",
      "18/18 [==============================] - 0s 4ms/step - loss: 0.0837 - accuracy: 0.9700 - val_loss: 0.0069 - val_accuracy: 1.0000\n",
      "Epoch 147/1000\n",
      " 1/18 [>.............................] - ETA: 0s - loss: 0.0497 - accuracy: 0.9844\n",
      "Epoch 147: saving model to model/keypoint_classifier\\keypoint_classifier.hdf5\n",
      "18/18 [==============================] - 0s 4ms/step - loss: 0.0827 - accuracy: 0.9759 - val_loss: 0.0061 - val_accuracy: 1.0000\n",
      "Epoch 148/1000\n",
      " 1/18 [>.............................] - ETA: 0s - loss: 0.1701 - accuracy: 0.9531\n",
      "Epoch 148: saving model to model/keypoint_classifier\\keypoint_classifier.hdf5\n",
      "18/18 [==============================] - 0s 4ms/step - loss: 0.0846 - accuracy: 0.9727 - val_loss: 0.0077 - val_accuracy: 1.0000\n",
      "Epoch 149/1000\n",
      " 1/18 [>.............................] - ETA: 0s - loss: 0.0390 - accuracy: 0.9766\n",
      "Epoch 149: saving model to model/keypoint_classifier\\keypoint_classifier.hdf5\n",
      "18/18 [==============================] - 0s 4ms/step - loss: 0.0707 - accuracy: 0.9773 - val_loss: 0.0064 - val_accuracy: 1.0000\n",
      "Epoch 150/1000\n",
      " 1/18 [>.............................] - ETA: 0s - loss: 0.0821 - accuracy: 0.9766\n",
      "Epoch 150: saving model to model/keypoint_classifier\\keypoint_classifier.hdf5\n",
      "18/18 [==============================] - 0s 4ms/step - loss: 0.0676 - accuracy: 0.9741 - val_loss: 0.0060 - val_accuracy: 1.0000\n",
      "Epoch 151/1000\n",
      " 1/18 [>.............................] - ETA: 0s - loss: 0.1826 - accuracy: 0.9453\n",
      "Epoch 151: saving model to model/keypoint_classifier\\keypoint_classifier.hdf5\n",
      "18/18 [==============================] - 0s 12ms/step - loss: 0.0719 - accuracy: 0.9736 - val_loss: 0.0070 - val_accuracy: 1.0000\n",
      "Epoch 152/1000\n",
      " 1/18 [>.............................] - ETA: 0s - loss: 0.0344 - accuracy: 0.9922\n",
      "Epoch 152: saving model to model/keypoint_classifier\\keypoint_classifier.hdf5\n",
      "18/18 [==============================] - 0s 4ms/step - loss: 0.0731 - accuracy: 0.9727 - val_loss: 0.0075 - val_accuracy: 1.0000\n",
      "Epoch 153/1000\n",
      " 1/18 [>.............................] - ETA: 0s - loss: 0.1086 - accuracy: 0.9531\n",
      "Epoch 153: saving model to model/keypoint_classifier\\keypoint_classifier.hdf5\n",
      "18/18 [==============================] - 0s 4ms/step - loss: 0.0801 - accuracy: 0.9691 - val_loss: 0.0073 - val_accuracy: 1.0000\n",
      "Epoch 154/1000\n",
      " 1/18 [>.............................] - ETA: 0s - loss: 0.0898 - accuracy: 0.9609\n",
      "Epoch 154: saving model to model/keypoint_classifier\\keypoint_classifier.hdf5\n",
      "18/18 [==============================] - 0s 4ms/step - loss: 0.0743 - accuracy: 0.9705 - val_loss: 0.0069 - val_accuracy: 1.0000\n",
      "Epoch 155/1000\n",
      " 1/18 [>.............................] - ETA: 0s - loss: 0.0527 - accuracy: 0.9766\n",
      "Epoch 155: saving model to model/keypoint_classifier\\keypoint_classifier.hdf5\n",
      "18/18 [==============================] - 0s 4ms/step - loss: 0.0767 - accuracy: 0.9741 - val_loss: 0.0070 - val_accuracy: 1.0000\n",
      "Epoch 156/1000\n",
      " 1/18 [>.............................] - ETA: 0s - loss: 0.1661 - accuracy: 0.9688\n",
      "Epoch 156: saving model to model/keypoint_classifier\\keypoint_classifier.hdf5\n",
      "18/18 [==============================] - 0s 4ms/step - loss: 0.0740 - accuracy: 0.9750 - val_loss: 0.0068 - val_accuracy: 1.0000\n",
      "Epoch 157/1000\n",
      " 1/18 [>.............................] - ETA: 0s - loss: 0.0457 - accuracy: 0.9766\n",
      "Epoch 157: saving model to model/keypoint_classifier\\keypoint_classifier.hdf5\n",
      "18/18 [==============================] - 0s 5ms/step - loss: 0.0741 - accuracy: 0.9750 - val_loss: 0.0062 - val_accuracy: 1.0000\n",
      "Epoch 158/1000\n",
      " 1/18 [>.............................] - ETA: 0s - loss: 0.0631 - accuracy: 0.9766\n",
      "Epoch 158: saving model to model/keypoint_classifier\\keypoint_classifier.hdf5\n",
      "18/18 [==============================] - 0s 4ms/step - loss: 0.0658 - accuracy: 0.9750 - val_loss: 0.0053 - val_accuracy: 1.0000\n",
      "Epoch 159/1000\n",
      " 1/18 [>.............................] - ETA: 0s - loss: 0.0384 - accuracy: 0.9922\n",
      "Epoch 159: saving model to model/keypoint_classifier\\keypoint_classifier.hdf5\n",
      "18/18 [==============================] - 0s 4ms/step - loss: 0.0753 - accuracy: 0.9714 - val_loss: 0.0061 - val_accuracy: 1.0000\n",
      "Epoch 160/1000\n",
      " 1/18 [>.............................] - ETA: 0s - loss: 0.0674 - accuracy: 0.9844\n",
      "Epoch 160: saving model to model/keypoint_classifier\\keypoint_classifier.hdf5\n",
      "18/18 [==============================] - 0s 4ms/step - loss: 0.0655 - accuracy: 0.9777 - val_loss: 0.0048 - val_accuracy: 1.0000\n",
      "Epoch 161/1000\n",
      " 1/18 [>.............................] - ETA: 0s - loss: 0.1038 - accuracy: 0.9609\n",
      "Epoch 161: saving model to model/keypoint_classifier\\keypoint_classifier.hdf5\n",
      "18/18 [==============================] - 0s 5ms/step - loss: 0.0769 - accuracy: 0.9736 - val_loss: 0.0050 - val_accuracy: 1.0000\n",
      "Epoch 162/1000\n",
      " 1/18 [>.............................] - ETA: 0s - loss: 0.0340 - accuracy: 1.0000\n",
      "Epoch 162: saving model to model/keypoint_classifier\\keypoint_classifier.hdf5\n",
      "18/18 [==============================] - 0s 4ms/step - loss: 0.0679 - accuracy: 0.9745 - val_loss: 0.0057 - val_accuracy: 1.0000\n"
     ]
    },
    {
     "name": "stdout",
     "output_type": "stream",
     "text": [
      "Epoch 163/1000\n",
      " 1/18 [>.............................] - ETA: 0s - loss: 0.1130 - accuracy: 0.9609\n",
      "Epoch 163: saving model to model/keypoint_classifier\\keypoint_classifier.hdf5\n",
      "18/18 [==============================] - 0s 5ms/step - loss: 0.0721 - accuracy: 0.9741 - val_loss: 0.0060 - val_accuracy: 1.0000\n",
      "Epoch 164/1000\n",
      " 1/18 [>.............................] - ETA: 0s - loss: 0.0351 - accuracy: 0.9922\n",
      "Epoch 164: saving model to model/keypoint_classifier\\keypoint_classifier.hdf5\n",
      "18/18 [==============================] - 0s 5ms/step - loss: 0.0598 - accuracy: 0.9773 - val_loss: 0.0053 - val_accuracy: 1.0000\n",
      "Epoch 165/1000\n",
      " 1/18 [>.............................] - ETA: 0s - loss: 0.0653 - accuracy: 0.9844\n",
      "Epoch 165: saving model to model/keypoint_classifier\\keypoint_classifier.hdf5\n",
      "18/18 [==============================] - 0s 5ms/step - loss: 0.0603 - accuracy: 0.9786 - val_loss: 0.0039 - val_accuracy: 1.0000\n",
      "Epoch 166/1000\n",
      " 1/18 [>.............................] - ETA: 0s - loss: 0.0778 - accuracy: 0.9688\n",
      "Epoch 166: saving model to model/keypoint_classifier\\keypoint_classifier.hdf5\n",
      "18/18 [==============================] - 0s 4ms/step - loss: 0.0568 - accuracy: 0.9800 - val_loss: 0.0035 - val_accuracy: 1.0000\n",
      "Epoch 167/1000\n",
      " 1/18 [>.............................] - ETA: 0s - loss: 0.0588 - accuracy: 0.9844\n",
      "Epoch 167: saving model to model/keypoint_classifier\\keypoint_classifier.hdf5\n",
      "18/18 [==============================] - 0s 4ms/step - loss: 0.0510 - accuracy: 0.9809 - val_loss: 0.0037 - val_accuracy: 1.0000\n",
      "Epoch 168/1000\n",
      " 1/18 [>.............................] - ETA: 0s - loss: 0.0366 - accuracy: 0.9922\n",
      "Epoch 168: saving model to model/keypoint_classifier\\keypoint_classifier.hdf5\n",
      "18/18 [==============================] - 0s 4ms/step - loss: 0.0624 - accuracy: 0.9777 - val_loss: 0.0043 - val_accuracy: 1.0000\n",
      "Epoch 169/1000\n",
      " 1/18 [>.............................] - ETA: 0s - loss: 0.0424 - accuracy: 0.9844\n",
      "Epoch 169: saving model to model/keypoint_classifier\\keypoint_classifier.hdf5\n",
      "18/18 [==============================] - 0s 4ms/step - loss: 0.0684 - accuracy: 0.9741 - val_loss: 0.0061 - val_accuracy: 1.0000\n",
      "Epoch 170/1000\n",
      " 1/18 [>.............................] - ETA: 0s - loss: 0.0297 - accuracy: 0.9844\n",
      "Epoch 170: saving model to model/keypoint_classifier\\keypoint_classifier.hdf5\n",
      "18/18 [==============================] - 0s 4ms/step - loss: 0.0655 - accuracy: 0.9741 - val_loss: 0.0062 - val_accuracy: 1.0000\n",
      "Epoch 171/1000\n",
      " 1/18 [>.............................] - ETA: 0s - loss: 0.0391 - accuracy: 0.9844\n",
      "Epoch 171: saving model to model/keypoint_classifier\\keypoint_classifier.hdf5\n",
      "18/18 [==============================] - 0s 4ms/step - loss: 0.0562 - accuracy: 0.9768 - val_loss: 0.0055 - val_accuracy: 1.0000\n",
      "Epoch 172/1000\n",
      " 1/18 [>.............................] - ETA: 0s - loss: 0.0704 - accuracy: 0.9766\n",
      "Epoch 172: saving model to model/keypoint_classifier\\keypoint_classifier.hdf5\n",
      "18/18 [==============================] - 0s 3ms/step - loss: 0.0742 - accuracy: 0.9759 - val_loss: 0.0056 - val_accuracy: 1.0000\n",
      "Epoch 173/1000\n",
      " 1/18 [>.............................] - ETA: 0s - loss: 0.0773 - accuracy: 0.9531\n",
      "Epoch 173: saving model to model/keypoint_classifier\\keypoint_classifier.hdf5\n",
      "18/18 [==============================] - 0s 5ms/step - loss: 0.0707 - accuracy: 0.9695 - val_loss: 0.0069 - val_accuracy: 1.0000\n",
      "Epoch 174/1000\n",
      " 1/18 [>.............................] - ETA: 0s - loss: 0.0589 - accuracy: 0.9609\n",
      "Epoch 174: saving model to model/keypoint_classifier\\keypoint_classifier.hdf5\n",
      "18/18 [==============================] - 0s 5ms/step - loss: 0.0540 - accuracy: 0.9759 - val_loss: 0.0058 - val_accuracy: 1.0000\n",
      "Epoch 175/1000\n",
      " 1/18 [>.............................] - ETA: 0s - loss: 0.0626 - accuracy: 0.9844\n",
      "Epoch 175: saving model to model/keypoint_classifier\\keypoint_classifier.hdf5\n",
      "18/18 [==============================] - 0s 4ms/step - loss: 0.0615 - accuracy: 0.9786 - val_loss: 0.0054 - val_accuracy: 1.0000\n",
      "Epoch 176/1000\n",
      " 1/18 [>.............................] - ETA: 0s - loss: 0.0522 - accuracy: 0.9844\n",
      "Epoch 176: saving model to model/keypoint_classifier\\keypoint_classifier.hdf5\n",
      "18/18 [==============================] - 0s 5ms/step - loss: 0.0747 - accuracy: 0.9723 - val_loss: 0.0063 - val_accuracy: 1.0000\n",
      "Epoch 177/1000\n",
      " 1/18 [>.............................] - ETA: 0s - loss: 0.0427 - accuracy: 0.9844\n",
      "Epoch 177: saving model to model/keypoint_classifier\\keypoint_classifier.hdf5\n",
      "18/18 [==============================] - 0s 5ms/step - loss: 0.0554 - accuracy: 0.9773 - val_loss: 0.0061 - val_accuracy: 1.0000\n",
      "Epoch 178/1000\n",
      " 1/18 [>.............................] - ETA: 0s - loss: 0.0941 - accuracy: 0.9531\n",
      "Epoch 178: saving model to model/keypoint_classifier\\keypoint_classifier.hdf5\n",
      "18/18 [==============================] - 0s 5ms/step - loss: 0.0652 - accuracy: 0.9718 - val_loss: 0.0077 - val_accuracy: 1.0000\n",
      "Epoch 179/1000\n",
      " 1/18 [>.............................] - ETA: 0s - loss: 0.0623 - accuracy: 0.9766\n",
      "Epoch 179: saving model to model/keypoint_classifier\\keypoint_classifier.hdf5\n",
      "18/18 [==============================] - 0s 4ms/step - loss: 0.0709 - accuracy: 0.9764 - val_loss: 0.0060 - val_accuracy: 1.0000\n",
      "Epoch 180/1000\n",
      " 1/18 [>.............................] - ETA: 0s - loss: 0.0441 - accuracy: 0.9844\n",
      "Epoch 180: saving model to model/keypoint_classifier\\keypoint_classifier.hdf5\n",
      "18/18 [==============================] - 0s 4ms/step - loss: 0.0529 - accuracy: 0.9827 - val_loss: 0.0051 - val_accuracy: 1.0000\n",
      "Epoch 181/1000\n",
      " 1/18 [>.............................] - ETA: 0s - loss: 0.0960 - accuracy: 0.9766\n",
      "Epoch 181: saving model to model/keypoint_classifier\\keypoint_classifier.hdf5\n",
      "18/18 [==============================] - 0s 4ms/step - loss: 0.0666 - accuracy: 0.9745 - val_loss: 0.0050 - val_accuracy: 1.0000\n",
      "Epoch 182/1000\n",
      " 1/18 [>.............................] - ETA: 0s - loss: 0.0576 - accuracy: 0.9688\n",
      "Epoch 182: saving model to model/keypoint_classifier\\keypoint_classifier.hdf5\n",
      "18/18 [==============================] - 0s 5ms/step - loss: 0.0595 - accuracy: 0.9745 - val_loss: 0.0049 - val_accuracy: 1.0000\n",
      "Epoch 183/1000\n",
      " 1/18 [>.............................] - ETA: 0s - loss: 0.0864 - accuracy: 0.9688\n",
      "Epoch 183: saving model to model/keypoint_classifier\\keypoint_classifier.hdf5\n",
      "18/18 [==============================] - 0s 4ms/step - loss: 0.0596 - accuracy: 0.9750 - val_loss: 0.0051 - val_accuracy: 1.0000\n",
      "Epoch 184/1000\n",
      " 1/18 [>.............................] - ETA: 0s - loss: 0.0508 - accuracy: 0.9844\n",
      "Epoch 184: saving model to model/keypoint_classifier\\keypoint_classifier.hdf5\n",
      "18/18 [==============================] - 0s 5ms/step - loss: 0.0609 - accuracy: 0.9745 - val_loss: 0.0046 - val_accuracy: 1.0000\n",
      "Epoch 185/1000\n",
      " 1/18 [>.............................] - ETA: 0s - loss: 0.0606 - accuracy: 0.9688\n",
      "Epoch 185: saving model to model/keypoint_classifier\\keypoint_classifier.hdf5\n",
      "18/18 [==============================] - 0s 4ms/step - loss: 0.0572 - accuracy: 0.9786 - val_loss: 0.0041 - val_accuracy: 1.0000\n",
      "Epoch 186/1000\n",
      " 1/18 [>.............................] - ETA: 0s - loss: 0.0413 - accuracy: 0.9688\n",
      "Epoch 186: saving model to model/keypoint_classifier\\keypoint_classifier.hdf5\n",
      "18/18 [==============================] - 0s 4ms/step - loss: 0.0725 - accuracy: 0.9723 - val_loss: 0.0080 - val_accuracy: 1.0000\n",
      "Epoch 186: early stopping\n"
     ]
    },
    {
     "data": {
      "text/plain": [
       "<keras.callbacks.History at 0x1e2fee5bbe0>"
      ]
     },
     "execution_count": 33,
     "metadata": {},
     "output_type": "execute_result"
    }
   ],
   "source": [
    "model.fit(\n",
    "    X_train,\n",
    "    Y_train,\n",
    "    epochs=1000,\n",
    "    batch_size=128,\n",
    "    validation_data=(X_test, Y_test),\n",
    "    callbacks=[cp_callback, es_callback]\n",
    ")"
   ]
  },
  {
   "cell_type": "markdown",
   "metadata": {},
   "source": [
    "### Evaluate"
   ]
  },
  {
   "cell_type": "code",
   "execution_count": 34,
   "metadata": {
    "colab": {
     "base_uri": "https://localhost:8080/"
    },
    "id": "pxvb2Y299hE3",
    "outputId": "59eb3185-2e37-4b9e-bc9d-ab1b8ac29b7f"
   },
   "outputs": [
    {
     "name": "stdout",
     "output_type": "stream",
     "text": [
      "8/8 [==============================] - 0s 932us/step - loss: 0.0080 - accuracy: 1.0000\n"
     ]
    }
   ],
   "source": [
    "val_loss, val_acc = model.evaluate(X_test, Y_test, batch_size=128)"
   ]
  },
  {
   "cell_type": "code",
   "execution_count": 35,
   "metadata": {
    "id": "RBkmDeUW9hE4"
   },
   "outputs": [],
   "source": [
    "# Load saved model\n",
    "model = tf.keras.models.load_model(model_path)"
   ]
  },
  {
   "cell_type": "code",
   "execution_count": 36,
   "metadata": {
    "colab": {
     "base_uri": "https://localhost:8080/"
    },
    "id": "tFz9Tb0I9hE4",
    "outputId": "1c3b3528-54ae-4ee2-ab04-77429211cbef",
    "scrolled": true
   },
   "outputs": [
    {
     "name": "stdout",
     "output_type": "stream",
     "text": [
      "[0.00775896 0.992241  ]\n",
      "1\n"
     ]
    }
   ],
   "source": [
    "# Inference test\n",
    "predict_result = model.predict(np.array([X_test[0]]))\n",
    "print(np.squeeze(predict_result))\n",
    "print(np.argmax(np.squeeze(predict_result)))"
   ]
  },
  {
   "cell_type": "markdown",
   "metadata": {
    "id": "S3U4yNWx9hE4"
   },
   "source": [
    "#### Confusion matrix"
   ]
  },
  {
   "cell_type": "code",
   "execution_count": 37,
   "metadata": {
    "colab": {
     "base_uri": "https://localhost:8080/",
     "height": 582
    },
    "id": "AP1V6SCk9hE5",
    "outputId": "08e41a80-7a4a-4619-8125-ecc371368d19",
    "scrolled": false
   },
   "outputs": [
    {
     "data": {
      "image/png": "[encoded data removed]",
      "text/plain": [
       "<Figure size 504x432 with 2 Axes>"
      ]
     },
     "metadata": {
      "needs_background": "light"
     },
     "output_type": "display_data"
    },
    {
     "name": "stdout",
     "output_type": "stream",
     "text": [
      "Classification Report\n",
      "              precision    recall  f1-score   support\n",
      "\n",
      "           0       1.00      1.00      1.00       517\n",
      "           1       1.00      1.00      1.00       426\n",
      "\n",
      "    accuracy                           1.00       943\n",
      "   macro avg       1.00      1.00      1.00       943\n",
      "weighted avg       1.00      1.00      1.00       943\n",
      "\n"
     ]
    }
   ],
   "source": [
    "Y_pred = model.predict(X_test)\n",
    "Y_pred = np.argmax(Y_pred, axis=1)\n",
    "\n",
    "labels = sorted(list(set(Y_test)))\n",
    "cmx_data = confusion_matrix(Y_test, Y_pred, labels=labels) \n",
    "df_cmx = pd.DataFrame(cmx_data, index=labels, columns=labels)\n",
    " \n",
    "fig, ax = plt.subplots(figsize=(7, 6))\n",
    "sns.heatmap(df_cmx, annot=True, fmt='g' ,square=False)\n",
    "ax.set_ylim(len(set(Y_test)), 0)\n",
    "plt.show()\n",
    "\n",
    "print('Classification Report')\n",
    "print(classification_report(Y_test, Y_pred))"
   ]
  },
  {
   "cell_type": "markdown",
   "metadata": {
    "id": "FNP6aqzc9hE5"
   },
   "source": [
    "### TFLite Model"
   ]
  },
  {
   "cell_type": "code",
   "execution_count": 38,
   "metadata": {
    "id": "ODjnYyld9hE6"
   },
   "outputs": [],
   "source": [
    "# For inference\n",
    "model.save(model_path, include_optimizer=False)"
   ]
  },
  {
   "cell_type": "code",
   "execution_count": 39,
   "metadata": {
    "colab": {
     "base_uri": "https://localhost:8080/"
    },
    "id": "zRfuK8Y59hE6",
    "outputId": "a4ca585c-b5d5-4244-8291-8674063209bb"
   },
   "outputs": [
    {
     "name": "stdout",
     "output_type": "stream",
     "text": [
      "INFO:tensorflow:Assets written to: C:\\Users\\Admin\\AppData\\Local\\Temp\\tmpxosp0fk0\\assets\n"
     ]
    },
    {
     "name": "stderr",
     "output_type": "stream",
     "text": [
      "WARNING:absl:Buffer deduplication procedure will be skipped when flatbuffer library is not properly loaded\n"
     ]
    },
    {
     "data": {
      "text/plain": [
       "6336"
      ]
     },
     "execution_count": 39,
     "metadata": {},
     "output_type": "execute_result"
    }
   ],
   "source": [
    "# Transform model\n",
    "converter = tf.lite.TFLiteConverter.from_keras_model(model)\n",
    "converter.optimizations = [tf.lite.Optimize.DEFAULT]\n",
    "tflite_quantized_model = converter.convert()\n",
    "\n",
    "open(tflite_path, 'wb').write(tflite_quantized_model)"
   ]
  },
  {
   "cell_type": "markdown",
   "metadata": {
    "id": "CHBPBXdx9hE6"
   },
   "source": [
    "### Inference test"
   ]
  },
  {
   "cell_type": "code",
   "execution_count": 40,
   "metadata": {
    "id": "mGAzLocO9hE7"
   },
   "outputs": [],
   "source": [
    "interpreter = tf.lite.Interpreter(model_path=tflite_path)\n",
    "interpreter.allocate_tensors()"
   ]
  },
  {
   "cell_type": "code",
   "execution_count": 41,
   "metadata": {
    "id": "oQuDK8YS9hE7"
   },
   "outputs": [],
   "source": [
    "# Get I / O tensor\n",
    "input_details = interpreter.get_input_details()\n",
    "output_details = interpreter.get_output_details()"
   ]
  },
  {
   "cell_type": "code",
   "execution_count": 42,
   "metadata": {
    "id": "2_ixAf_l9hE7"
   },
   "outputs": [],
   "source": [
    "interpreter.set_tensor(input_details[0]['index'], np.array([X_test[0]]))"
   ]
  },
  {
   "cell_type": "code",
   "execution_count": 43,
   "metadata": {
    "colab": {
     "base_uri": "https://localhost:8080/"
    },
    "id": "s4FoAnuc9hE7",
    "outputId": "91f18257-8d8b-4ef3-c558-e9b5f94fabbf",
    "scrolled": true
   },
   "outputs": [
    {
     "name": "stdout",
     "output_type": "stream",
     "text": [
      "Wall time: 0 ns\n"
     ]
    }
   ],
   "source": [
    "%%time\n",
    "# Inference implementation\n",
    "interpreter.invoke()\n",
    "tflite_results = interpreter.get_tensor(output_details[0]['index'])"
   ]
  },
  {
   "cell_type": "code",
   "execution_count": 44,
   "metadata": {
    "colab": {
     "base_uri": "https://localhost:8080/"
    },
    "id": "vONjp19J9hE8",
    "outputId": "77205e24-fd00-42c4-f7b6-e06e527c2cba"
   },
   "outputs": [
    {
     "name": "stdout",
     "output_type": "stream",
     "text": [
      "[0.00775896 0.992241  ]\n",
      "1\n"
     ]
    }
   ],
   "source": [
    "print(np.squeeze(tflite_results))\n",
    "print(np.argmax(np.squeeze(tflite_results)))"
   ]
  }
 ],
 "metadata": {
  "accelerator": "GPU",
  "colab": {
   "collapsed_sections": [],
   "name": "keypoint_classification_EN.ipynb",
   "provenance": [],
   "toc_visible": true
  },
  "kernelspec": {
   "display_name": "Python 3",
   "language": "python",
   "name": "python3"
  },
  "language_info": {
   "codemirror_mode": {
    "name": "ipython",
    "version": 3
   },
   "file_extension": ".py",
   "mimetype": "text/x-python",
   "name": "python",
   "nbconvert_exporter": "python",
   "pygments_lexer": "ipython3",
   "version": "3.8.8"
  }
 },
 "nbformat": 4,
 "nbformat_minor": 1
}
